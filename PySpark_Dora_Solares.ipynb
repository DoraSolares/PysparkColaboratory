{
  "nbformat": 4,
  "nbformat_minor": 0,
  "metadata": {
    "colab": {
      "name": "PySpark - Dora Solares.ipynb",
      "provenance": [],
      "collapsed_sections": [],
      "authorship_tag": "ABX9TyO/C2S/RT17zdsakha3VOgR",
      "include_colab_link": true
    },
    "kernelspec": {
      "name": "python3",
      "display_name": "Python 3"
    },
    "language_info": {
      "name": "python"
    }
  },
  "cells": [
    {
      "cell_type": "markdown",
      "metadata": {
        "id": "view-in-github",
        "colab_type": "text"
      },
      "source": [
        "<a href=\"https://colab.research.google.com/github/DoraSolares/PysparkColaboratory/blob/master/PySpark_Dora_Solares.ipynb\" target=\"_parent\"><img src=\"https://colab.research.google.com/assets/colab-badge.svg\" alt=\"Open In Colab\"/></a>"
      ]
    },
    {
      "cell_type": "markdown",
      "metadata": {
        "id": "7BrWPJF1PX2s"
      },
      "source": [
        "## Install pyspark in colab\n",
        "\n",
        "---\n",
        "\n",
        "To run spark in Colab, first we need to install all the dependencies in Colab environment such as Apache Spark 2.4.7 with hadoop 2.7, Java 8 and Findspark in order to locate the spark in the system. The tools installation can be carried out inside the Jupyter Notebook of the Colab."
      ]
    },
    {
      "cell_type": "code",
      "metadata": {
        "id": "4aSbmBngOdg0"
      },
      "source": [
        "!apt-get install openjdk-8-jdk-headless -qq > /dev/null\n",
        "!wget -q https://www-us.apache.org/dist/spark/spark-2.4.7/spark-2.4.7-bin-hadoop2.7.tgz\n",
        "!tar xf spark-2.4.7-bin-hadoop2.7.tgz\n",
        "!pip install -q findspark"
      ],
      "execution_count": 15,
      "outputs": []
    },
    {
      "cell_type": "markdown",
      "metadata": {
        "id": "avvfiaS-P0P_"
      },
      "source": [
        "Now that we have installed Spark and Java in Colab, it is time to set the environment path that enables us to run PySpark in our Colab environment. Set the location of Java and Spark by running the following code:"
      ]
    },
    {
      "cell_type": "code",
      "metadata": {
        "id": "oBAkrzyLOqgs"
      },
      "source": [
        "import os\n",
        "os.environ[\"JAVA_HOME\"] = \"/usr/lib/jvm/java-8-openjdk-amd64\"\n",
        "os.environ[\"SPARK_HOME\"] = \"/content/spark-2.4.7-bin-hadoop2.7\""
      ],
      "execution_count": 16,
      "outputs": []
    },
    {
      "cell_type": "markdown",
      "metadata": {
        "id": "ViKASQ4cP5Wk"
      },
      "source": [
        "We can run a local spark session to test our installation:"
      ]
    },
    {
      "cell_type": "code",
      "metadata": {
        "id": "4XOfolPbOwk-"
      },
      "source": [
        "import findspark\n",
        "findspark.init()\n",
        "from pyspark.sql import SparkSession\n",
        "spark = SparkSession.builder.master(\"local[*]\").getOrCreate()"
      ],
      "execution_count": 17,
      "outputs": []
    },
    {
      "cell_type": "markdown",
      "metadata": {
        "id": "JnjXBiIFP9TM"
      },
      "source": [
        "Our Colab is ready to run PySpark."
      ]
    },
    {
      "cell_type": "markdown",
      "metadata": {
        "id": "rmurMhM9jMd9"
      },
      "source": [
        "## Dataset\n",
        "---\n",
        "### Context\n",
        "The dataset was originally collected by Austin Reese on 2020-01-07. The source of this dataset is Craiglist.org. The domain of the dataset is Public.\n",
        "### Content\n",
        "The dataset comprises of 265190 house records with 22 columns. You can find more details in the housePricing.docx file attached with the dataset."
      ]
    },
    {
      "cell_type": "code",
      "metadata": {
        "colab": {
          "base_uri": "https://localhost:8080/"
        },
        "id": "zpoTtIB20LcX",
        "outputId": "2801ad11-0b46-4b80-b7c6-357d4c65fe01"
      },
      "source": [
        "!wget https://github.com/DoraSolares/PysparkColaboratory/raw/master/housing_train.csv.zip\n",
        "!unzip housing_train.csv.zip"
      ],
      "execution_count": 18,
      "outputs": [
        {
          "output_type": "stream",
          "text": [
            "--2021-05-18 01:32:27--  https://github.com/DoraSolares/PysparkColaboratory/raw/master/housing_train.csv.zip\n",
            "Resolving github.com (github.com)... 140.82.112.4\n",
            "Connecting to github.com (github.com)|140.82.112.4|:443... connected.\n",
            "HTTP request sent, awaiting response... 302 Found\n",
            "Location: https://media.githubusercontent.com/media/DoraSolares/PysparkColaboratory/master/housing_train.csv.zip [following]\n",
            "--2021-05-18 01:32:27--  https://media.githubusercontent.com/media/DoraSolares/PysparkColaboratory/master/housing_train.csv.zip\n",
            "Resolving media.githubusercontent.com (media.githubusercontent.com)... 185.199.108.133, 185.199.109.133, 185.199.110.133, ...\n",
            "Connecting to media.githubusercontent.com (media.githubusercontent.com)|185.199.108.133|:443... connected.\n",
            "HTTP request sent, awaiting response... 200 OK\n",
            "Length: 76443248 (73M) [application/zip]\n",
            "Saving to: ‘housing_train.csv.zip.1’\n",
            "\n",
            "housing_train.csv.z 100%[===================>]  72.90M  96.6MB/s    in 0.8s    \n",
            "\n",
            "2021-05-18 01:32:28 (96.6 MB/s) - ‘housing_train.csv.zip.1’ saved [76443248/76443248]\n",
            "\n",
            "Archive:  housing_train.csv.zip\n",
            "replace housing_train.csv? [y]es, [n]o, [A]ll, [N]one, [r]ename: y\n",
            "  inflating: housing_train.csv       \n"
          ],
          "name": "stdout"
        }
      ]
    },
    {
      "cell_type": "code",
      "metadata": {
        "colab": {
          "base_uri": "https://localhost:8080/"
        },
        "id": "oIWSV8t5oq_y",
        "outputId": "168c51fb-f3e5-4223-bd73-f6f2d8cd64bd"
      },
      "source": [
        "df = spark.read.csv('/content/housing_train.csv',inferSchema=True, header =True)\n",
        "df.printSchema()"
      ],
      "execution_count": 19,
      "outputs": [
        {
          "output_type": "stream",
          "text": [
            "root\n",
            " |-- id: string (nullable = true)\n",
            " |-- url: string (nullable = true)\n",
            " |-- region: string (nullable = true)\n",
            " |-- region_url: string (nullable = true)\n",
            " |-- price: string (nullable = true)\n",
            " |-- type: string (nullable = true)\n",
            " |-- sqfeet: string (nullable = true)\n",
            " |-- beds: string (nullable = true)\n",
            " |-- baths: string (nullable = true)\n",
            " |-- cats_allowed: string (nullable = true)\n",
            " |-- dogs_allowed: string (nullable = true)\n",
            " |-- smoking_allowed: string (nullable = true)\n",
            " |-- wheelchair_access: string (nullable = true)\n",
            " |-- electric_vehicle_charge: integer (nullable = true)\n",
            " |-- comes_furnished: string (nullable = true)\n",
            " |-- laundry_options: string (nullable = true)\n",
            " |-- parking_options: string (nullable = true)\n",
            " |-- image_url: string (nullable = true)\n",
            " |-- description: string (nullable = true)\n",
            " |-- lat: string (nullable = true)\n",
            " |-- long: string (nullable = true)\n",
            " |-- state: string (nullable = true)\n",
            "\n"
          ],
          "name": "stdout"
        }
      ]
    },
    {
      "cell_type": "code",
      "metadata": {
        "colab": {
          "base_uri": "https://localhost:8080/"
        },
        "id": "SekrppvWs7nG",
        "outputId": "99212dd0-f271-47dd-8284-850586137b41"
      },
      "source": [
        "df.count()"
      ],
      "execution_count": 20,
      "outputs": [
        {
          "output_type": "execute_result",
          "data": {
            "text/plain": [
              "265193"
            ]
          },
          "metadata": {
            "tags": []
          },
          "execution_count": 20
        }
      ]
    },
    {
      "cell_type": "code",
      "metadata": {
        "colab": {
          "base_uri": "https://localhost:8080/"
        },
        "id": "0e2dZ9WPtCRa",
        "outputId": "855c93d5-ae68-4bfe-8b89-b7f304fc246c"
      },
      "source": [
        "df.select(\"price\").distinct().show()"
      ],
      "execution_count": 21,
      "outputs": [
        {
          "output_type": "stream",
          "text": [
            "+-----+\n",
            "|price|\n",
            "+-----+\n",
            "|  675|\n",
            "| 1090|\n",
            "|  829|\n",
            "| 1159|\n",
            "| 1572|\n",
            "|  467|\n",
            "|  691|\n",
            "| 1512|\n",
            "| 1436|\n",
            "| 2162|\n",
            "| 3210|\n",
            "| 2069|\n",
            "| 2088|\n",
            "| 2136|\n",
            "| 4032|\n",
            "|  296|\n",
            "|  800|\n",
            "|  853|\n",
            "| 2275|\n",
            "| 1372|\n",
            "+-----+\n",
            "only showing top 20 rows\n",
            "\n"
          ],
          "name": "stdout"
        }
      ]
    },
    {
      "cell_type": "code",
      "metadata": {
        "colab": {
          "base_uri": "https://localhost:8080/"
        },
        "id": "SwKuPat8uSZj",
        "outputId": "8f7c0d8e-da27-4ef4-d34c-775c7930e390"
      },
      "source": [
        "df.select(\"type\").distinct().show()"
      ],
      "execution_count": 22,
      "outputs": [
        {
          "output_type": "stream",
          "text": [
            "+---------------+\n",
            "|           type|\n",
            "+---------------+\n",
            "| Community Pool|\n",
            "|         in-law|\n",
            "|           loft|\n",
            "|           null|\n",
            "|         duplex|\n",
            "|      townhouse|\n",
            "|           flat|\n",
            "|          condo|\n",
            "|            Gym|\n",
            "|   manufactured|\n",
            "|           land|\n",
            "|          house|\n",
            "|assisted living|\n",
            "|      apartment|\n",
            "|  cottage/cabin|\n",
            "+---------------+\n",
            "\n"
          ],
          "name": "stdout"
        }
      ]
    },
    {
      "cell_type": "code",
      "metadata": {
        "colab": {
          "base_uri": "https://localhost:8080/"
        },
        "id": "-Axk_Ul2ufp_",
        "outputId": "ed00fd8c-adc7-491b-8f1c-94751559d4c6"
      },
      "source": [
        "df.select([\"id\",\"region\"]).filter(df.price<1000).show()"
      ],
      "execution_count": 23,
      "outputs": [
        {
          "output_type": "stream",
          "text": [
            "+----------+----------+\n",
            "|        id|    region|\n",
            "+----------+----------+\n",
            "|7041966914|birmingham|\n",
            "|7041966936|birmingham|\n",
            "|7041966888|birmingham|\n",
            "|7041966868|birmingham|\n",
            "|7041966702|birmingham|\n",
            "|7041959413|birmingham|\n",
            "|7041958307|birmingham|\n",
            "|7041938996|birmingham|\n",
            "|7041935244|birmingham|\n",
            "|7041934777|birmingham|\n",
            "|7037827287|birmingham|\n",
            "|7040738380|birmingham|\n",
            "|7041943185|birmingham|\n",
            "|7041943167|birmingham|\n",
            "|7041934856|birmingham|\n",
            "|7041926275|birmingham|\n",
            "|7041926645|birmingham|\n",
            "|7041926412|birmingham|\n",
            "|7040738422|birmingham|\n",
            "|7041915578|birmingham|\n",
            "+----------+----------+\n",
            "only showing top 20 rows\n",
            "\n"
          ],
          "name": "stdout"
        }
      ]
    },
    {
      "cell_type": "code",
      "metadata": {
        "id": "dVS5Hx7owikh",
        "colab": {
          "base_uri": "https://localhost:8080/"
        },
        "outputId": "f5a0854a-8b66-4f81-dcf7-e2bbe07709db"
      },
      "source": [
        "apartments=df.select([\"id\",\"price\", \"region\", \"sqfeet\", \"beds\", \"baths\", \"parking_options\"]).filter(\"type='apartment' AND price<1000\")\n",
        "apartments.show()"
      ],
      "execution_count": 24,
      "outputs": [
        {
          "output_type": "stream",
          "text": [
            "+----------+-----+----------+------+----+-----+------------------+\n",
            "|        id|price|    region|sqfeet|beds|baths|   parking_options|\n",
            "+----------+-----+----------+------+----+-----+------------------+\n",
            "|7041966914|  825|birmingham|  1133|   1|  1.5|    street parking|\n",
            "|7041966936|  800|birmingham|   927|   1|    1|    street parking|\n",
            "|7041966888|  785|birmingham|  1047|   2|    1|    street parking|\n",
            "|7041966868|  900|birmingham|  1298|   2|    2|    street parking|\n",
            "|7041966702|  925|birmingham|  1350|   2|    2|    street parking|\n",
            "|7041959413|  799|birmingham|   703|   1|    1|              null|\n",
            "|7041958307|  890|birmingham|  1050|   2|    2|              null|\n",
            "|7041935244|  870|birmingham|   851|   1|    1|off-street parking|\n",
            "|7041934777|  815|birmingham|   851|   1|    1|off-street parking|\n",
            "|7037827287|  700|birmingham|   906|   1|    1|              null|\n",
            "|7040738380|  820|birmingham|   851|   1|    1|off-street parking|\n",
            "|7041943185|  925|birmingham|  1350|   2|    2|    street parking|\n",
            "|7041943167|  785|birmingham|  1047|   2|    1|    street parking|\n",
            "|7041934856|  890|birmingham|  1100|   2|    2|off-street parking|\n",
            "|7041926275|  975|birmingham|  1009|   2|    1|off-street parking|\n",
            "|7041926645|  835|birmingham|   560|   1|    1|off-street parking|\n",
            "|7041926412|  825|birmingham|   851|   1|    1|off-street parking|\n",
            "|7040738422|  975|birmingham|  1009|   2|    1|off-street parking|\n",
            "|7041915578|  990|birmingham|   996|   2|    1|off-street parking|\n",
            "|7031679711|  990|birmingham|  1100|   2|    2|off-street parking|\n",
            "+----------+-----+----------+------+----+-----+------------------+\n",
            "only showing top 20 rows\n",
            "\n"
          ],
          "name": "stdout"
        }
      ]
    },
    {
      "cell_type": "code",
      "metadata": {
        "colab": {
          "base_uri": "https://localhost:8080/"
        },
        "id": "hm7527Za0ah5",
        "outputId": "6a61c108-eacc-44d6-fb40-4913f9bed520"
      },
      "source": [
        "apartments.count()"
      ],
      "execution_count": 25,
      "outputs": [
        {
          "output_type": "execute_result",
          "data": {
            "text/plain": [
              "100261"
            ]
          },
          "metadata": {
            "tags": []
          },
          "execution_count": 25
        }
      ]
    },
    {
      "cell_type": "code",
      "metadata": {
        "colab": {
          "base_uri": "https://localhost:8080/"
        },
        "id": "sxYwcXtA0eOH",
        "outputId": "7fec34ea-4902-49ff-9c5e-fda88478ef2b"
      },
      "source": [
        "ap_with_parking = apartments.filter(\"parking_options='off-street parking' AND region<>'birmingham'\")\n",
        "ap_with_parking.show()"
      ],
      "execution_count": 26,
      "outputs": [
        {
          "output_type": "stream",
          "text": [
            "+----------+-----+--------------------+------+----+-----+------------------+\n",
            "|        id|price|              region|sqfeet|beds|baths|   parking_options|\n",
            "+----------+-----+--------------------+------+----+-----+------------------+\n",
            "|7045091151|  855|huntsville / decatur|   856|   1|    1|off-street parking|\n",
            "|7045924966|  700|              dothan|   950|   2|    1|off-street parking|\n",
            "|7032696630|  710|              dothan|   641|   1|    1|off-street parking|\n",
            "|7032002167|  710|              dothan|   641|   1|    1|off-street parking|\n",
            "|7032688948|  710|              dothan|   641|   1|    1|off-street parking|\n",
            "|7032700160|  710|              dothan|   641|   1|    1|off-street parking|\n",
            "|7046773373|  710|              dothan|   641|   1|    1|off-street parking|\n",
            "|7027420859|  710|              dothan|   641|   1|    1|off-street parking|\n",
            "|7027414691|  710|              dothan|   641|   1|    1|off-street parking|\n",
            "|7027429517|  710|              dothan|   641|   1|    1|off-street parking|\n",
            "|7023739692|  710|              dothan|   641|   1|    1|off-street parking|\n",
            "|7023147472|  710|              dothan|   641|   1|    1|off-street parking|\n",
            "|7023142375|  710|              dothan|   641|   1|    1|off-street parking|\n",
            "|7024961811|  710|              dothan|   641|   1|    1|off-street parking|\n",
            "|7023670651|  710|              dothan|   641|   1|    1|off-street parking|\n",
            "|7024663266|  500|              dothan|   867|   1|    0|off-street parking|\n",
            "|7036040532|  864|              dothan|   977|   2|  1.5|off-street parking|\n",
            "|7036035515|  873|              dothan|   923|   2|  1.5|off-street parking|\n",
            "|7036030942|  850|              dothan|   724|   1|    1|off-street parking|\n",
            "|7035436339|  825|              dothan|   649|   1|    1|off-street parking|\n",
            "+----------+-----+--------------------+------+----+-----+------------------+\n",
            "only showing top 20 rows\n",
            "\n"
          ],
          "name": "stdout"
        }
      ]
    },
    {
      "cell_type": "code",
      "metadata": {
        "colab": {
          "base_uri": "https://localhost:8080/"
        },
        "id": "HZwoBp4t2PdT",
        "outputId": "eda3e4c9-dbe1-4b38-a911-34460aa1ee3a"
      },
      "source": [
        "ap_with_parking.count()"
      ],
      "execution_count": 27,
      "outputs": [
        {
          "output_type": "execute_result",
          "data": {
            "text/plain": [
              "44489"
            ]
          },
          "metadata": {
            "tags": []
          },
          "execution_count": 27
        }
      ]
    },
    {
      "cell_type": "code",
      "metadata": {
        "id": "OpSnzPyJ2Tku"
      },
      "source": [
        "ap_with_parking.write.mode(\"overwrite\").csv(\"/content/cheap_apartments\")"
      ],
      "execution_count": 28,
      "outputs": []
    }
  ]
}